{
 "cells": [
  {
   "cell_type": "code",
   "execution_count": null,
   "metadata": {},
   "outputs": [],
   "source": [
    "# Alice's code\n",
    "def greet(name):\n",
    "    return f\"Hello, {name}! Welcome to Git and GitHub collaboration.\"\n",
    "# Ask for user input\n",
    "user_name = input(\"Enter your name: \")\n",
    "print(greet(user_name))"
   ]
  }
 ],
 "metadata": {
  "language_info": {
   "name": "python"
  }
 },
 "nbformat": 4,
 "nbformat_minor": 2
}
